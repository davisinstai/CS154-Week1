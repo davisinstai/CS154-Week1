{
 "cells": [
  {
   "cell_type": "markdown",
   "metadata": {},
   "source": [
    "# Review\n",
    "\n",
    "Question 1: *Provide a definition and example of each of the following terms:*\n",
    "| Term | Example | Definition |\n",
    "| ---- | ------- | ---------- |\n",
    "| Expression |   |            |\n",
    "| Operator |      |           | \n",
    "| Operand |       |            |\n",
    "| Function |      |             |\n",
    "| Argument |      |              |\n",
    "| Variable  |     |            |\n",
    "\n",
    "Question 2: *For each of these operators, indicate which basic Python data types it can take as operands:*\n",
    "| Operator | Permissible Operand Types |\n",
    "| -------- | ------------------------- |\n",
    "| + |                  |\n",
    "| - |                  |\n",
    "| * |                  |\n",
    "| / |                  |\n",
    "| ** |                  |\n",
    "| % |                  |\n",
    "\n",
    "Question 3: *One of those operators is also used in the `print()` function. Which is it?*\n",
    "\n",
    "Question 4: *List some common string functions.*\n",
    "* one\n",
    "* two\n",
    "* three\n",
    "* four\n",
    "\n",
    "Question 5: *What function allows us to collect information from the user?*\n",
    "\n"
   ]
  },
  {
   "cell_type": "markdown",
   "metadata": {},
   "source": [
    "# Resources\n",
    "\n",
    "[Constellate tutorial](https://www.constellate.org/tutorials/) Python Basics 1."
   ]
  }
 ],
 "metadata": {
  "kernelspec": {
   "display_name": "Python 3",
   "language": "python",
   "name": "python3"
  },
  "language_info": {
   "codemirror_mode": {
    "name": "ipython",
    "version": 3
   },
   "file_extension": ".py",
   "mimetype": "text/x-python",
   "name": "python",
   "nbconvert_exporter": "python",
   "pygments_lexer": "ipython3",
   "version": "3.10.8"
  },
  "toc": {
   "base_numbering": 1,
   "nav_menu": {},
   "number_sections": true,
   "sideBar": true,
   "skip_h1_title": true,
   "title_cell": "Table of Contents",
   "title_sidebar": "Contents",
   "toc_cell": false,
   "toc_position": {},
   "toc_section_display": true,
   "toc_window_display": false
  },
  "toc-autonumbering": false,
  "toc-showcode": false,
  "toc-showmarkdowntxt": false,
  "toc-showtags": false
 },
 "nbformat": 4,
 "nbformat_minor": 4
}
