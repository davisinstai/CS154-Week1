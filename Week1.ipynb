{
 "cells": [
  {
   "cell_type": "markdown",
   "metadata": {},
   "source": [
    "# The Key Terms for Friday\n"
   ]
  },
  {
   "cell_type": "markdown",
   "metadata": {
    "slideshow": {
     "slide_type": "slide"
    }
   },
   "source": [
    "\n",
    "* expression\n",
    "* operator\n",
    "* operand\n",
    "* integer\n",
    "* floating point number"
   ]
  },
  {
   "cell_type": "markdown",
   "metadata": {
    "slideshow": {
     "slide_type": "slide"
    }
   },
   "source": [
    "# Introduction\n"
   ]
  },
  {
   "cell_type": "markdown",
   "metadata": {
    "slideshow": {
     "slide_type": "subslide"
    }
   },
   "source": [
    "\n",
    "Python is [one of the top programming languages of 2023](https://spectrum.ieee.org/the-top-programming-languages-2023). Python is:\n",
    "\n",
    "* Widely-adopted in the digital humanities and data science\n",
    "* Regarded as an easy-to-learn language\n",
    "* Flexible, having wide support for working with numerical and textual data \n",
    "* A skill desired by employers in academic, non-profit, and private sectors\n",
    "\n",
    "We are going to take a systematic approach to python, but feel free to explore! There will be lots of time for you to bring your own creativity. Also...\n"
   ]
  },
  {
   "cell_type": "markdown",
   "metadata": {
    "slideshow": {
     "slide_type": "subslide"
    }
   },
   "source": [
    "\n",
    "**Making Mistakes is Important**\n",
    "\n",
    "Every programmer at every skill level gets errors in their code. Making mistakes is how we all learn to program. Programming is a little like solving a puzzle where the goal is to get the desired outcome through a series of attempts. You won't solve the puzzle if you're afraid to test if the pieces match. An error message will not break your computer. Remember, you can always reload a notebook if it stops working properly or you misplace an important piece of code. Under the edit menu, there is an option to undo changes. (Alternatively, you can use **command z** on Mac and **control z** on Windows.) To learn any skill, you need to be willing to play and experiment. Programming is no different. And you really cannot break the computer here (especially since our computers are virtual machines in the cloud that we can remake if we want!)."
   ]
  },
  {
   "cell_type": "markdown",
   "metadata": {
    "slideshow": {
     "slide_type": "slide"
    }
   },
   "source": [
    "# Expressions and Operators"
   ]
  },
  {
   "cell_type": "markdown",
   "metadata": {
    "slideshow": {
     "slide_type": "subslide"
    }
   },
   "source": [
    "\n",
    "The simplest form of Python programming is an **expression** using an **operator**. For example, consider `1 + 1`.\n",
    "\n",
    "Here '+' is the operator and the numbers are the **operands**.\n",
    "\n",
    "Enter this expression in the code cell below. Remember to press Ctrl + Enter (Windows) or shift + return (OS X) on your keyboard to run the code."
   ]
  },
  {
   "cell_type": "code",
   "execution_count": null,
   "metadata": {
    "slideshow": {
     "slide_type": "subslide"
    }
   },
   "outputs": [],
   "source": [
    "# Type the expression in this code block. Then run it.\n"
   ]
  },
  {
   "cell_type": "markdown",
   "metadata": {
    "slideshow": {
     "slide_type": "subslide"
    }
   },
   "source": [
    "Here are some operators:\n",
    "* \\+ (addition)\n",
    "* \\-\n",
    "* \\*\n",
    "* /\n",
    "* \\*\\*\n",
    "* %\n",
    "\n",
    "What does each of them do? Try them in the code cell below, then add the definition in the list above. I've done the first one for you!"
   ]
  },
  {
   "cell_type": "code",
   "execution_count": null,
   "metadata": {
    "slideshow": {
     "slide_type": "subslide"
    }
   },
   "outputs": [],
   "source": [
    "# Type an expression in this cell. Then run it. Then fill in the definition above.\n"
   ]
  },
  {
   "cell_type": "markdown",
   "metadata": {},
   "source": [
    "When you run, or **evaluate**, an expression in Python, this order of operations is followed:\n",
    "\n",
    "1. Parentheses\n",
    "2. Exponents\n",
    "3. Multiplication and Division (from left to right)\n",
    "4. Addition and Subtraction (from left to right)\n",
    "\n",
    "(In grade school, you may remember learning the shorthand \"PEMDAS\".) \n",
    "\n",
    "In the code cell below, try writing a complex expression that first adds 2 and 3, then multiplies that by 5, then adds 6. Write the answer here: "
   ]
  },
  {
   "cell_type": "code",
   "execution_count": null,
   "metadata": {},
   "outputs": [],
   "source": [
    "# Type the complex expression in this cell. Then run it. Write the answer above.\n"
   ]
  },
  {
   "cell_type": "markdown",
   "metadata": {
    "toc-hr-collapsed": true,
    "toc-nb-collapsed": true
   },
   "source": [
    "# Basic Data Types 1: Integers and Floating Point Numbers"
   ]
  },
  {
   "cell_type": "markdown",
   "metadata": {},
   "source": [
    "\n",
    "All expressions evaluate to a single value. So far, all our expressions evaluated to numerical values. There are two basic types of numerical value:\n",
    "* **integer** (or int, a whole number)\n",
    "* **floating point number** (or float, a decimal number)\n",
    "\n",
    "Fill in some examples here of integers and floats:\n",
    "| Data type | Examples |\n",
    "| --------- | -------- |\n",
    "| Integer |      |\n",
    "| Float |        | "
   ]
  },
  {
   "cell_type": "markdown",
   "metadata": {},
   "source": [
    "To evaluate whether two values are equal, we can use two equals signs between them. The expression will evaluate to either `True` or `False`."
   ]
  },
  {
   "cell_type": "code",
   "execution_count": null,
   "metadata": {},
   "outputs": [],
   "source": [
    "# Run this code cell to determine whether the values are equal\n",
    "42 == 15"
   ]
  },
  {
   "cell_type": "code",
   "execution_count": null,
   "metadata": {},
   "outputs": [],
   "source": [
    "# Run this code cell to determine whether the values are equal\n",
    "42 == 42.0"
   ]
  },
  {
   "cell_type": "markdown",
   "metadata": {},
   "source": [
    "# The Key Terms for Monday\n",
    "\n",
    "* variable\n",
    "* string\n",
    "* function"
   ]
  },
  {
   "cell_type": "markdown",
   "metadata": {
    "toc-hr-collapsed": true,
    "toc-nb-collapsed": true
   },
   "source": [
    "# Variables, Part 1\n",
    "\n"
   ]
  },
  {
   "cell_type": "markdown",
   "metadata": {},
   "source": [
    "A **variable** is like a container that stores information. There are many kinds of information that can be stored in a variable, including the data types we have already discussed. We create (or *initialize*) a variable with an **assignment statement** to give the variable a value."
   ]
  },
  {
   "cell_type": "markdown",
   "metadata": {},
   "source": [
    "Here we create a variable ```new_integer_variable``` and assign its value to be ```5```."
   ]
  },
  {
   "cell_type": "code",
   "execution_count": null,
   "metadata": {},
   "outputs": [],
   "source": [
    "# Initialize an integer variable to value 5\n",
    "new_integer_variable = 5"
   ]
  },
  {
   "cell_type": "markdown",
   "metadata": {},
   "source": [
    "Once we've done that, we can use the variable anywhere we would use its value; for example, as an operand in an expression."
   ]
  },
  {
   "cell_type": "code",
   "execution_count": null,
   "metadata": {},
   "outputs": [],
   "source": [
    "# Add 22 to new_integer_variable\n",
    "new_integer_variable + 22"
   ]
  },
  {
   "cell_type": "markdown",
   "metadata": {},
   "source": [
    "To get the value of a variable, just type the variable."
   ]
  },
  {
   "cell_type": "code",
   "execution_count": null,
   "metadata": {},
   "outputs": [],
   "source": [
    "new_integer_variable"
   ]
  },
  {
   "cell_type": "markdown",
   "metadata": {},
   "source": [
    "If you type a variable whose value has not been initialized, you will get an error."
   ]
  },
  {
   "cell_type": "code",
   "execution_count": null,
   "metadata": {},
   "outputs": [],
   "source": [
    "uninitialized_integer_variable"
   ]
  },
  {
   "cell_type": "markdown",
   "metadata": {},
   "source": [
    "The value of a variable can be overwritten with a new value."
   ]
  },
  {
   "cell_type": "code",
   "execution_count": null,
   "metadata": {},
   "outputs": [],
   "source": [
    "# Overwrite the value of my_favorite_number when the commented out line of code is executed. \n",
    "# Remove the # in the line \"#my_favorite_number = 9\" to turn the line into executable code.\n",
    "\n",
    "my_favorite_number = 7\n",
    "my_favorite_number = 9\n",
    "my_favorite_number"
   ]
  },
  {
   "cell_type": "code",
   "execution_count": null,
   "metadata": {},
   "outputs": [],
   "source": [
    "# Overwriting the value of a variable using its original value\n",
    "cats_in_house = 1\n",
    "cats_in_house = cats_in_house + 2\n",
    "cats_in_house"
   ]
  },
  {
   "cell_type": "code",
   "execution_count": null,
   "metadata": {},
   "outputs": [],
   "source": [
    "# A shorthand version\n",
    "cats_in_house += 2\n",
    "cats_in_house"
   ]
  },
  {
   "cell_type": "markdown",
   "metadata": {},
   "source": [
    "You can create a variable with almost any name, but there are a few guidelines that are recommended.\n",
    "\n",
    "## Variable Names Should be Descriptive\n",
    "\n",
    "If we create a variable that stores the day of the month, it is helpful to give it a name that makes the value stored inside it clear like `day_of_month`. From a logical perspective, we could call the variable almost anything (`hotdog`, `rabbit`, `flat_tire`). As long as we are consistent, the code will execute the same. When it comes time to read, modify, and understand the code, however, it will be confusing to you and others. Consider this simple program that lets us change the `days` variable to compute the number of seconds in that many days."
   ]
  },
  {
   "cell_type": "code",
   "execution_count": null,
   "metadata": {},
   "outputs": [],
   "source": [
    "# Compute the number of seconds in 3 days\n",
    "days = 3\n",
    "hours_in_day = 24\n",
    "minutes_in_hour = 60\n",
    "seconds_in_minute = 60\n",
    "\n",
    "days * hours_in_day * minutes_in_hour * seconds_in_minute"
   ]
  },
  {
   "cell_type": "markdown",
   "metadata": {},
   "source": [
    "We could write a program that is logically the same, but uses confusing variable names."
   ]
  },
  {
   "cell_type": "code",
   "execution_count": null,
   "metadata": {},
   "outputs": [],
   "source": [
    "hotdogs = 60\n",
    "sasquatch = 24\n",
    "example = 3\n",
    "answer = 60\n",
    "\n",
    "answer * sasquatch * example * hotdogs"
   ]
  },
  {
   "cell_type": "markdown",
   "metadata": {},
   "source": [
    "This code gives us the same answer as the first example, but it is confusing. Not only does this code use variable names that are confusing, it also does not include any comments to explain what the code does. It is not clear that we would change `example` to set a different number of days. It is not even clear what the purpose of the code is. As code gets longer and more complex, having clear variable names and explanatory comments is very important."
   ]
  },
  {
   "cell_type": "markdown",
   "metadata": {},
   "source": [
    "Please note, the computer has no idea what the variable names \"mean\" to you or me. From the perspective of the Python **interpreter**, the variable `day_of_month` might as well be `hotdogs`!"
   ]
  },
  {
   "cell_type": "code",
   "execution_count": null,
   "metadata": {},
   "outputs": [],
   "source": []
  },
  {
   "cell_type": "markdown",
   "metadata": {
    "toc-hr-collapsed": true,
    "toc-nb-collapsed": true
   },
   "source": [
    "## Variable Names Should Follow the Rules\n",
    "\n",
    "In addition to being descriptive, [variable](https://constellate.org/docs/key-terms/#variable) names must follow 3 basic rules:\n",
    "\n",
    "1. Must be one word (no spaces allowed)\n",
    "2. Only letters, numbers and the underscore character (\\_)\n",
    "3. Cannot begin with a number\n",
    "\n",
    "Which of these variable names are acceptable? Try them in the code cell below:\n",
    "* `$variable = 1`\n",
    "* `a variable = 2`\n",
    "* `a_variable = 3`\n",
    "* `4variable = 4`\n",
    "* `variable5 = 5`\n",
    "* `variable-6 = 6`\n",
    "* `variAble = 7`\n",
    "* `Avariable = 8`"
   ]
  },
  {
   "cell_type": "code",
   "execution_count": null,
   "metadata": {},
   "outputs": [],
   "source": [
    "# Which of the above variable names are acceptable? \n"
   ]
  },
  {
   "cell_type": "markdown",
   "metadata": {},
   "source": [
    "## Variable Naming Style Guidelines\n",
    "\n",
    "The three rules above describe absolute rules of Python variable naming. If you break those rules, your code will create an error and fail to execute properly. There are also style *guidelines* that, while they won't break your code, are generally advised for making your code readable and understandable. These style guidelines are written in the [Python Enhancement Proposals (PEP) Style Guide](https://www.python.org/dev/peps/pep-0008/).\n",
    "\n",
    "The current version of the style guide advises that variable names should be written:\n",
    ">lowercase, with words separated by underscores as necessary to improve readability.\n",
    "\n",
    "If you have written code before, you may be familiar with other styles (for example, Java uses another style!), but these notebooks will attempt to follow the PEP guidelines for style. Ultimately, the most important thing is that your variable names are consistent so that someone who reads your code can follow what it is doing. As your code becomes more complicated, writing detailed comments with `#` will also become more important."
   ]
  },
  {
   "cell_type": "markdown",
   "metadata": {},
   "source": [
    "# Basic Data Types 2: Strings"
   ]
  },
  {
   "cell_type": "markdown",
   "metadata": {},
   "source": [
    "So far, all our expressions evaluated to numerical values (integers or floating point numbers). However, Python has other data types. Now we will look at **strings**.\n",
    "\n",
    "Strings are really important data types for natural language processing! NLP operates over strings.\n",
    "\n",
    "A string is a sequence (or list) of characters with quotes around. Here is a string: `\"Colby College\"`. Here is another: `'Colby College'`. Either quotation mark will work, but use the same one at the start and end!\n",
    "\n",
    "Try some strings in the code cell below."
   ]
  },
  {
   "cell_type": "code",
   "execution_count": null,
   "metadata": {},
   "outputs": [],
   "source": [
    "# Make some strings"
   ]
  },
  {
   "cell_type": "markdown",
   "metadata": {},
   "source": [
    "A variable can be assigned to a string."
   ]
  },
  {
   "cell_type": "code",
   "execution_count": null,
   "metadata": {},
   "outputs": [],
   "source": [
    "new_string_variable = \"Colby College\""
   ]
  },
  {
   "cell_type": "markdown",
   "metadata": {},
   "source": [
    "How do we get the value of a variable, again? Use that here to get the value of `new_string_variable`."
   ]
  },
  {
   "cell_type": "code",
   "execution_count": null,
   "metadata": {},
   "outputs": [],
   "source": []
  },
  {
   "cell_type": "markdown",
   "metadata": {},
   "source": [
    "*Surprise!* We can use many common operators on strings, but they won't operate on strings the same way they do on integers or floating point numbers. \n",
    "\n",
    "Here are the operators we know about. Try them on strings, and put the \"string definitions\" of what they do here:\n",
    "* \\+ (addition)\n",
    "* \\-\n",
    "* \\*\n",
    "* /\n",
    "* \\*\\*\n",
    "* %\n"
   ]
  },
  {
   "cell_type": "code",
   "execution_count": null,
   "metadata": {},
   "outputs": [],
   "source": [
    "# Try expressions with strings on both sides and the above operators in the middle"
   ]
  },
  {
   "cell_type": "markdown",
   "metadata": {},
   "source": [
    "Now try those operators with a string as the leftmost operand and an integer as the rightmost. What do you find?\n",
    "* \\+ (addition)\n",
    "* \\-\n",
    "* \\*\n",
    "* /\n",
    "* \\*\\*\n",
    "* %"
   ]
  },
  {
   "cell_type": "code",
   "execution_count": null,
   "metadata": {},
   "outputs": [],
   "source": [
    "# Try expressions with a string on the left side and an integer on the right side"
   ]
  },
  {
   "cell_type": "markdown",
   "metadata": {},
   "source": [
    "Finally, we can check if strings are equal to other things using `==`. Try these below and for each say whether the result is `True` or `False`:\n",
    "* `\"Colby College\" == 15`\n",
    "* `\"fifteen\" == 15`"
   ]
  },
  {
   "cell_type": "code",
   "execution_count": null,
   "metadata": {},
   "outputs": [],
   "source": []
  },
  {
   "cell_type": "markdown",
   "metadata": {},
   "source": [
    "# String Functions"
   ]
  },
  {
   "cell_type": "markdown",
   "metadata": {},
   "source": [
    "A **function** is a little snippet of code that has been named so that it can be reused over and over again. There are three kinds of  function:\n",
    "\n",
    "* Native functions built into Python\n",
    "* Functions others have written that you can import via Python **packages** (like spacy!)\n",
    "* Functions you write yourself\n",
    "\n",
    "We will talk about functions you write yourself soon. For now, let's look at native functions that you can use on strings."
   ]
  },
  {
   "cell_type": "markdown",
   "metadata": {},
   "source": [
    "There are a lot of string functions. We will look at a few important ones, and then show you how you can find out about others. Here are the ones we will look at:\n",
    "* `lower()`\n",
    "* `upper()`\n",
    "* `join()`\n",
    "* `split()`\n",
    "* `replace()`"
   ]
  },
  {
   "cell_type": "markdown",
   "metadata": {},
   "source": [
    "We will illustrate the way you **call** a Python function on a string using `lower()`: `\"Colby College\".lower()`"
   ]
  },
  {
   "cell_type": "code",
   "execution_count": null,
   "metadata": {},
   "outputs": [],
   "source": [
    "# Copy the code from above here, then run it"
   ]
  },
  {
   "cell_type": "markdown",
   "metadata": {},
   "source": [
    "You can also call `lower()` on a variable whose currently assigned value is a string:"
   ]
  },
  {
   "cell_type": "code",
   "execution_count": null,
   "metadata": {},
   "outputs": [],
   "source": [
    "new_string_variable = \"Colby College\"\n",
    "# Now call lower on new_string_variable"
   ]
  },
  {
   "cell_type": "markdown",
   "metadata": {},
   "source": [
    "Now try the other string functions from above on `new_string_variable` and then fill in their definitions in the list."
   ]
  },
  {
   "cell_type": "code",
   "execution_count": null,
   "metadata": {},
   "outputs": [],
   "source": [
    "# Try string functions here\n"
   ]
  },
  {
   "cell_type": "markdown",
   "metadata": {},
   "source": [
    "How do you find out about other string functions? In a notebook, you can enter a string (or variable whose value is a string) in a code cell, add the `.`, and a pop-up menu will show you other functions! Try it here."
   ]
  },
  {
   "cell_type": "code",
   "execution_count": null,
   "metadata": {},
   "outputs": [],
   "source": [
    "# Try finding other string functions here"
   ]
  },
  {
   "cell_type": "markdown",
   "metadata": {},
   "source": [
    "# The Key Terms for Wednesday\n",
    "\n",
    "* function\n",
    "* argument\n",
    "* cast\n",
    "* print\n",
    "* input"
   ]
  },
  {
   "cell_type": "markdown",
   "metadata": {},
   "source": [
    "# The `str()`, `int()`, and `float()` functions\n",
    "\n",
    "We can transform, or **cast**, one variable type into another with the  `str()`, `int()`, and `float()` functions. It is common for functions to take an input, called an **argument**, that is placed inside the parentheses (). Let's convert the integer 7 into a string:"
   ]
  },
  {
   "cell_type": "code",
   "execution_count": null,
   "metadata": {},
   "outputs": [],
   "source": [
    "# Converting 7 into a string\n",
    "str(7)"
   ]
  },
  {
   "cell_type": "markdown",
   "metadata": {},
   "source": [
    "You can also apply these functions to variables. In the code cell below, assign `new_string_variable` to `\"15\"`, then convert it into a floating point number."
   ]
  },
  {
   "cell_type": "code",
   "execution_count": null,
   "metadata": {},
   "outputs": [],
   "source": [
    "# Assign new_string_variable to \"15\"\n",
    "\n",
    "# Convert it into a float\n"
   ]
  },
  {
   "cell_type": "markdown",
   "metadata": {},
   "source": [
    "This doesn't always work how you think it will! In the code cell below, assign `new_string_variable` to `\"fifteen\"`, then try to convert it into a floating point number."
   ]
  },
  {
   "cell_type": "code",
   "execution_count": null,
   "metadata": {},
   "outputs": [],
   "source": [
    "# Assign new_string_variable to \"fifteen\"\n",
    "\n",
    "# Convert it into a float"
   ]
  },
  {
   "cell_type": "markdown",
   "metadata": {
    "toc-hr-collapsed": true,
    "toc-nb-collapsed": true
   },
   "source": [
    "# Printing\n",
    "\n",
    "One of the most common functions used in Python is the `print()` function, which prints a string. Try it!"
   ]
  },
  {
   "cell_type": "code",
   "execution_count": null,
   "metadata": {},
   "outputs": [],
   "source": [
    "# A print function that prints: Hello World!\n",
    "print('Hello World!')"
   ]
  },
  {
   "cell_type": "markdown",
   "metadata": {},
   "source": [
    "We ccan define a variable whose value is a string and put that in the `print()` function. Try it!"
   ]
  },
  {
   "cell_type": "code",
   "execution_count": null,
   "metadata": {},
   "outputs": [],
   "source": [
    "# Define a string and then print it\n",
    "our_string = 'Hello World!'\n",
    "print(our_string)"
   ]
  },
  {
   "cell_type": "markdown",
   "metadata": {},
   "source": [
    "Remember that we can use a ```+``` to concatenate two strings. Try concatenating `'Hello'`, your name, and `'!'` in a single call to the `print()` function."
   ]
  },
  {
   "cell_type": "code",
   "execution_count": null,
   "metadata": {},
   "outputs": [],
   "source": [
    "# Assign your name to variable your_name\n",
    "your_name = \n",
    "\n",
    "# Concatenate 'Hello', your name and '!' and print\n"
   ]
  },
  {
   "cell_type": "markdown",
   "metadata": {},
   "source": [
    "We can concatenate many strings together, but `print()` can only print strings and we cannot concatenate integers and floating point numbers with strings. One way to deal with this isuing `str()`. Fix the code below so that it does not produce an error."
   ]
  },
  {
   "cell_type": "code",
   "execution_count": null,
   "metadata": {},
   "outputs": [],
   "source": [
    "# A short integer\n",
    "short_integer = 3\n",
    "# A long float\n",
    "long_float = 3.1415926535\n",
    "# A simple print\n",
    "print('Hello ' + your_name + ', I have two numbers for you: ' + short_integer + ' and ' + long_float + '!')\n"
   ]
  },
  {
   "cell_type": "markdown",
   "metadata": {},
   "source": [
    "We can also \"pretty print\". To do that, we use `f` before the string we are printing; then, we can insert variable names right inside the string!"
   ]
  },
  {
   "cell_type": "code",
   "execution_count": null,
   "metadata": {},
   "outputs": [],
   "source": [
    "print(f'Hello {your_name}, I have two numbers for you: {short_integer} and {long_float}!')"
   ]
  },
  {
   "cell_type": "markdown",
   "metadata": {},
   "source": [
    "A lot of people find this way of printing to be easier to read. Plus, you don't have to worry about **casting** floats and ints for printing."
   ]
  },
  {
   "cell_type": "markdown",
   "metadata": {},
   "source": [
    "\n",
    "\n",
    "Another way to print while including variable names (including those assigned to floating point numbers and integers) that gives you even more control is using `%`."
   ]
  },
  {
   "cell_type": "code",
   "execution_count": null,
   "metadata": {},
   "outputs": [],
   "source": [
    "print(f'Hello %s!' % your_name)"
   ]
  },
  {
   "cell_type": "markdown",
   "metadata": {},
   "source": [
    "This takes a little explaining: inside the quotes, we use:\n",
    "* `%s` for a string\n",
    "* `%i` for an integer\n",
    "* `%f` for a floating point number\n",
    "\n",
    "Outside the quotes, we put `%` and then list the variable(s) we want printed. If there's more than one, we surround them with `(` and `)`. Take a look at this example."
   ]
  },
  {
   "cell_type": "code",
   "execution_count": null,
   "metadata": {},
   "outputs": [],
   "source": [
    "# A fancy printing\n",
    "print(f'Hello %s, I have two numbers for you: %i and %f!' % (your_name, short_integer, long_float))"
   ]
  },
  {
   "cell_type": "markdown",
   "metadata": {},
   "source": [
    "And it gets even better! If you have a long floating point number that you want to print shorter, you can do that. You just put the way you want it printed inside the `%f`. Similarly, if you have a short integer you want to print longer, you can do that!"
   ]
  },
  {
   "cell_type": "code",
   "execution_count": null,
   "metadata": {},
   "outputs": [],
   "source": [
    "# Print the int longer and the float shorter\n",
    "print(f'Hello %s, I have two numbers for you: %10i and %0.2f!' % (your_name, short_integer, long_float))"
   ]
  },
  {
   "cell_type": "markdown",
   "metadata": {},
   "source": [
    "This is helpful if you want to print things to look like a table."
   ]
  },
  {
   "cell_type": "markdown",
   "metadata": {},
   "source": [
    "# Input\n",
    "\n",
    "There is also an `input()` function for taking user input."
   ]
  },
  {
   "cell_type": "code",
   "execution_count": null,
   "metadata": {},
   "outputs": [],
   "source": [
    "# A program to greet the user by name\n",
    "print('Hi. What is your name?') # Ask the user for their name\n",
    "user_name = input() # Take the user's input and put it into the variable user_name\n",
    "print(f'Pleased to meet you, {user_name}') # Print a greeting with the user's name"
   ]
  },
  {
   "cell_type": "markdown",
   "metadata": {},
   "source": [
    "We defined a string variable ```user_name``` to hold the user's input. We then called the `print()` function to print the concatenation of 'Pleased to meet you, ' and the user's input that was captured in the variable ```user_name```. "
   ]
  },
  {
   "cell_type": "code",
   "execution_count": null,
   "metadata": {},
   "outputs": [],
   "source": [
    "# Concatenating many strings within a print function\n",
    "print('Hello, ' + 'all ' + 'these ' + 'strings ' + 'are ' + 'being ' + 'connected ' + 'together.')"
   ]
  },
  {
   "cell_type": "code",
   "execution_count": null,
   "metadata": {},
   "outputs": [],
   "source": [
    "# Trying to concatenate a string with an integer causes an error\n",
    "print('There are ' + 7 + 'continents.')"
   ]
  },
  {
   "cell_type": "markdown",
   "metadata": {},
   "source": [
    "# Review\n",
    "\n",
    "Question 1: Provide a definition and example of each of the following terms:\n",
    "| Term | Example | Definition |\n",
    "| ---- | ------- | ---------- |\n",
    "| Expression |   |            |\n",
    "| Operator |      |           | \n",
    "| Operand |       |            |\n",
    "| Function |      |             |\n",
    "| Argument |      |              |\n",
    "| Variable  |     |            |\n",
    "\n",
    "Question 2: For each of these operators, indicate which basic Python data types it can take as operands:\n",
    "| Operator | Permissible Operand Types |\n",
    "| -------- | ------------------------- |\n",
    "| + |                  |\n",
    "| - |                  |\n",
    "| * |                  |\n",
    "| / |                  |\n",
    "| ** |                  |\n",
    "| % |                  |\n",
    "\n",
    "Question 3: One of those operators is also used in the `print()` function. Which is it?\n",
    "\n",
    "Question 4: List some common string functions.\n",
    "* one\n",
    "* two\n",
    "* three\n",
    "* four\n",
    "\n",
    "Question 5: What function allows us to collect information from the user?\n",
    "\n"
   ]
  },
  {
   "cell_type": "markdown",
   "metadata": {},
   "source": [
    "# Resources\n",
    "\n",
    "[Constellate tutorial](https://www.constellate.org/tutorials/) Python Basics 1."
   ]
  }
 ],
 "metadata": {
  "kernelspec": {
   "display_name": "Python 3",
   "language": "python",
   "name": "python3"
  },
  "language_info": {
   "codemirror_mode": {
    "name": "ipython",
    "version": 3
   },
   "file_extension": ".py",
   "mimetype": "text/x-python",
   "name": "python",
   "nbconvert_exporter": "python",
   "pygments_lexer": "ipython3",
   "version": "3.10.8"
  },
  "toc": {
   "base_numbering": 1,
   "nav_menu": {},
   "number_sections": true,
   "sideBar": true,
   "skip_h1_title": true,
   "title_cell": "Table of Contents",
   "title_sidebar": "Contents",
   "toc_cell": false,
   "toc_position": {},
   "toc_section_display": true,
   "toc_window_display": false
  },
  "toc-autonumbering": false,
  "toc-showcode": false,
  "toc-showmarkdowntxt": false,
  "toc-showtags": false
 },
 "nbformat": 4,
 "nbformat_minor": 4
}
